{
 "cells": [
  {
   "cell_type": "code",
   "execution_count": 1,
   "id": "a4b0543f",
   "metadata": {},
   "outputs": [],
   "source": [
    "import tensorflow as tf\n",
    "from keras.preprocessing.image import ImageDataGenerator\n",
    "import numpy as np\n",
    "from keras.preprocessing import image"
   ]
  },
  {
   "cell_type": "code",
   "execution_count": 18,
   "id": "3bf83660",
   "metadata": {},
   "outputs": [
    {
     "name": "stdout",
     "output_type": "stream",
     "text": [
      "Found 557 images belonging to 2 classes.\n",
      "Found 140 images belonging to 2 classes.\n"
     ]
    }
   ],
   "source": [
    "# Data Preprocessing\n",
    "# Training set preprocessing\n",
    "train_datagen = ImageDataGenerator(rescale=1./255, shear_range=0.2, zoom_range=0.2)\n",
    "training_set = train_datagen.flow_from_directory(\n",
    "    'dataset/training_set',\n",
    "    target_size=(64, 64),\n",
    "    batch_size=25,\n",
    "    class_mode='binary'\n",
    ")\n",
    "test_datagen = ImageDataGenerator(rescale=1./255)\n",
    "test_set = test_datagen.flow_from_directory(\n",
    "        'dataset/testing_set',\n",
    "        target_size=(64, 64),\n",
    "        batch_size=25,\n",
    "        class_mode='binary'\n",
    "    )"
   ]
  },
  {
   "cell_type": "code",
   "execution_count": 6,
   "id": "2cb2fdc3",
   "metadata": {},
   "outputs": [],
   "source": [
    "# Building the CNN\n",
    "cnn = tf.keras.models.Sequential()"
   ]
  },
  {
   "cell_type": "code",
   "execution_count": 7,
   "id": "41a79285",
   "metadata": {},
   "outputs": [],
   "source": [
    "# Adding the first convolutional layer and pooling layer\n",
    "cnn.add(tf.keras.layers.Conv2D(filters=32, kernel_size=3, activation='relu', input_shape=[64, 64, 3]))\n",
    "cnn.add(tf.keras.layers.MaxPool2D(pool_size=2, strides=2))"
   ]
  },
  {
   "cell_type": "code",
   "execution_count": 8,
   "id": "27c45bd3",
   "metadata": {},
   "outputs": [],
   "source": [
    "# Adding the second convolutional layer and pooling layer\n",
    "cnn.add(tf.keras.layers.Conv2D(filters=32, kernel_size=3, activation='relu'))\n",
    "cnn.add(tf.keras.layers.MaxPool2D(pool_size=2, strides=2))"
   ]
  },
  {
   "cell_type": "code",
   "execution_count": 9,
   "id": "dc3fbe61",
   "metadata": {},
   "outputs": [],
   "source": [
    "# Flattening\n",
    "cnn.add(tf.keras.layers.Flatten())"
   ]
  },
  {
   "cell_type": "code",
   "execution_count": 10,
   "id": "a5f9fa1f",
   "metadata": {},
   "outputs": [],
   "source": [
    "# Full connection\n",
    "cnn.add(tf.keras.layers.Dense(units=128, activation='relu'))"
   ]
  },
  {
   "cell_type": "code",
   "execution_count": 11,
   "id": "32c7aef0",
   "metadata": {},
   "outputs": [],
   "source": [
    "# Output layer\n",
    "cnn.add(tf.keras.layers.Dense(units=1, activation='sigmoid'))"
   ]
  },
  {
   "cell_type": "code",
   "execution_count": 12,
   "id": "aa66b720",
   "metadata": {},
   "outputs": [],
   "source": [
    "# Compiling the CNN\n",
    "cnn.compile(optimizer='adam', loss='binary_crossentropy', metrics=['accuracy'])"
   ]
  },
  {
   "cell_type": "code",
   "execution_count": 17,
   "id": "e11d6bc1",
   "metadata": {},
   "outputs": [
    {
     "name": "stdout",
     "output_type": "stream",
     "text": [
      "Epoch 1/25\n",
      "23/23 [==============================] - 10s 464ms/step - loss: 0.6811 - accuracy: 0.6302 - val_loss: 0.7002 - val_accuracy: 0.5000\n",
      "Epoch 2/25\n",
      "23/23 [==============================] - 8s 354ms/step - loss: 0.6810 - accuracy: 0.5727 - val_loss: 0.6921 - val_accuracy: 0.5214\n",
      "Epoch 3/25\n",
      "23/23 [==============================] - 9s 395ms/step - loss: 0.6422 - accuracy: 0.6409 - val_loss: 0.6739 - val_accuracy: 0.6500\n",
      "Epoch 4/25\n",
      "23/23 [==============================] - 8s 362ms/step - loss: 0.6181 - accuracy: 0.6284 - val_loss: 0.7209 - val_accuracy: 0.5500\n",
      "Epoch 5/25\n",
      "23/23 [==============================] - 10s 430ms/step - loss: 0.5692 - accuracy: 0.7181 - val_loss: 0.7005 - val_accuracy: 0.6571\n",
      "Epoch 6/25\n",
      "23/23 [==============================] - 9s 371ms/step - loss: 0.5307 - accuracy: 0.7415 - val_loss: 0.7423 - val_accuracy: 0.5786\n",
      "Epoch 7/25\n",
      "23/23 [==============================] - 8s 358ms/step - loss: 0.5194 - accuracy: 0.7451 - val_loss: 0.7254 - val_accuracy: 0.6357\n",
      "Epoch 8/25\n",
      "23/23 [==============================] - 9s 414ms/step - loss: 0.4948 - accuracy: 0.7720 - val_loss: 0.7173 - val_accuracy: 0.6500\n",
      "Epoch 9/25\n",
      "23/23 [==============================] - 9s 372ms/step - loss: 0.4676 - accuracy: 0.7792 - val_loss: 0.7230 - val_accuracy: 0.6857\n",
      "Epoch 10/25\n",
      "23/23 [==============================] - 9s 390ms/step - loss: 0.4058 - accuracy: 0.8294 - val_loss: 0.7954 - val_accuracy: 0.6429\n",
      "Epoch 11/25\n",
      "23/23 [==============================] - 9s 415ms/step - loss: 0.4030 - accuracy: 0.8223 - val_loss: 0.7964 - val_accuracy: 0.6500\n",
      "Epoch 12/25\n",
      "23/23 [==============================] - 10s 415ms/step - loss: 0.3891 - accuracy: 0.8205 - val_loss: 0.7618 - val_accuracy: 0.6500\n",
      "Epoch 13/25\n",
      "23/23 [==============================] - 10s 417ms/step - loss: 0.3521 - accuracy: 0.8582 - val_loss: 0.7426 - val_accuracy: 0.6857\n",
      "Epoch 14/25\n",
      "23/23 [==============================] - 8s 362ms/step - loss: 0.3301 - accuracy: 0.8636 - val_loss: 0.7476 - val_accuracy: 0.6929\n",
      "Epoch 15/25\n",
      "23/23 [==============================] - 10s 418ms/step - loss: 0.2847 - accuracy: 0.8833 - val_loss: 0.8003 - val_accuracy: 0.6857\n",
      "Epoch 16/25\n",
      "23/23 [==============================] - 9s 403ms/step - loss: 0.2675 - accuracy: 0.9013 - val_loss: 0.8294 - val_accuracy: 0.6786\n",
      "Epoch 17/25\n",
      "23/23 [==============================] - 9s 366ms/step - loss: 0.2615 - accuracy: 0.8887 - val_loss: 0.9215 - val_accuracy: 0.6714\n",
      "Epoch 18/25\n",
      "23/23 [==============================] - 9s 398ms/step - loss: 0.2361 - accuracy: 0.9246 - val_loss: 0.9857 - val_accuracy: 0.6714\n",
      "Epoch 19/25\n",
      "23/23 [==============================] - 10s 418ms/step - loss: 0.2321 - accuracy: 0.9138 - val_loss: 0.9258 - val_accuracy: 0.6929\n",
      "Epoch 20/25\n",
      "23/23 [==============================] - 10s 436ms/step - loss: 0.2147 - accuracy: 0.9192 - val_loss: 1.0651 - val_accuracy: 0.6714\n",
      "Epoch 21/25\n",
      "23/23 [==============================] - 9s 379ms/step - loss: 0.1889 - accuracy: 0.9264 - val_loss: 1.0280 - val_accuracy: 0.7071\n",
      "Epoch 22/25\n",
      "23/23 [==============================] - 9s 391ms/step - loss: 0.1697 - accuracy: 0.9390 - val_loss: 1.0602 - val_accuracy: 0.6643\n",
      "Epoch 23/25\n",
      "23/23 [==============================] - 10s 421ms/step - loss: 0.1935 - accuracy: 0.9192 - val_loss: 1.1587 - val_accuracy: 0.6214\n",
      "Epoch 24/25\n",
      "23/23 [==============================] - 9s 395ms/step - loss: 0.2342 - accuracy: 0.8977 - val_loss: 1.0138 - val_accuracy: 0.6214\n",
      "Epoch 25/25\n",
      "23/23 [==============================] - 9s 385ms/step - loss: 0.1430 - accuracy: 0.9443 - val_loss: 1.2870 - val_accuracy: 0.6286\n"
     ]
    },
    {
     "data": {
      "text/plain": [
       "<keras.src.callbacks.History at 0x14301075030>"
      ]
     },
     "execution_count": 17,
     "metadata": {},
     "output_type": "execute_result"
    }
   ],
   "source": [
    "# Training the CNN on the Training set and evaluating it on the Test set\n",
    "cnn.fit(x=training_set, validation_data=test_set, epochs=25)"
   ]
  },
  {
   "cell_type": "code",
   "execution_count": 21,
   "id": "18569065",
   "metadata": {},
   "outputs": [
    {
     "name": "stdout",
     "output_type": "stream",
     "text": [
      "1/1 [==============================] - 0s 156ms/step\n"
     ]
    }
   ],
   "source": [
    "# Making a single prediction\n",
    "test_image = tf.keras.utils.load_img(\"dataset/single_prediction/catordog.jpg\", target_size=(64, 64))\n",
    "test_image = tf.keras.utils.img_to_array(test_image)\n",
    "test_image = np.expand_dims(test_image, axis=0)\n",
    "result = cnn.predict(test_image)"
   ]
  },
  {
   "cell_type": "code",
   "execution_count": 22,
   "id": "731f06d3",
   "metadata": {},
   "outputs": [
    {
     "name": "stdout",
     "output_type": "stream",
     "text": [
      "Prediction: dog\n"
     ]
    }
   ],
   "source": [
    "# Output the prediction\n",
    "if result[0][0] == 1:\n",
    "    prediction = 'dog'\n",
    "else:\n",
    "    prediction = 'cat'\n",
    "\n",
    "print(\"Prediction:\", prediction)"
   ]
  },
  {
   "cell_type": "code",
   "execution_count": null,
   "id": "9eed2481",
   "metadata": {},
   "outputs": [],
   "source": []
  }
 ],
 "metadata": {
  "kernelspec": {
   "display_name": "Python 3 (ipykernel)",
   "language": "python",
   "name": "python3"
  },
  "language_info": {
   "codemirror_mode": {
    "name": "ipython",
    "version": 3
   },
   "file_extension": ".py",
   "mimetype": "text/x-python",
   "name": "python",
   "nbconvert_exporter": "python",
   "pygments_lexer": "ipython3",
   "version": "3.10.9"
  }
 },
 "nbformat": 4,
 "nbformat_minor": 5
}
